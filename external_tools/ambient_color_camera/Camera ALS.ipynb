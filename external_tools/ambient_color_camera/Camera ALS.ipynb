{
 "cells": [
  {
   "cell_type": "markdown",
   "metadata": {},
   "source": [
    "# Methods of Approximating Ambient Light Level Using Camera Output"
   ]
  },
  {
   "cell_type": "markdown",
   "metadata": {},
   "source": [
    "## 1. Helper Functions\n",
    "\n",
    "These helper functions can largely be ignored, but make sure to run each cell before using the algorithm section (Section 2)."
   ]
  },
  {
   "cell_type": "markdown",
   "metadata": {},
   "source": [
    "### 1.1 Get Camera Capture\n",
    "\n",
    "Get capture from camera."
   ]
  },
  {
   "cell_type": "code",
   "execution_count": null,
   "metadata": {},
   "outputs": [],
   "source": [
    "import matplotlib.pyplot as plt\n",
    "import cv2\n",
    "\n",
    "def show_img(img):\n",
    "    img = cv2.cvtColor(img, cv2.COLOR_BGR2RGB)\n",
    "    plt.imshow(img)\n",
    "    plt.show()\n",
    "\n",
    "def get_capture():\n",
    "    cap = cv2.VideoCapture(0, cv2.CAP_DSHOW)\n",
    "\n",
    "    # Lower resolution to speed up processing\n",
    "    cap.set(3, 640)\n",
    "    cap.set(4, 480)\n",
    "\n",
    "    ret, img = cap.read()\n",
    "\n",
    "    if not ret:\n",
    "        print(\"Failed to get video capture.\")\n",
    "        raise ConnectionError\n",
    "    else:\n",
    "        return img\n",
    "\n",
    "img = get_capture()\n",
    "show_img(img)"
   ]
  },
  {
   "cell_type": "markdown",
   "metadata": {},
   "source": [
    "### 1.2 Get Data Set\n",
    "\n",
    "Load the camera frame to ALS lux reading into memory. The datasets are tuples where tuple[0] is the camera image and tuple[1] is the real lux value as read from the ALS."
   ]
  },
  {
   "cell_type": "code",
   "execution_count": null,
   "metadata": {},
   "outputs": [],
   "source": [
    "import matplotlib.pyplot as plt\n",
    "import glob\n",
    "import cv2\n",
    "\n",
    "DARK_SET_PATH = \"dataset\\dark_background\"\n",
    "LIGHT_D25_SET_PATH = \"dataset\\light_background_D25\"\n",
    "LIGHT_D90_SET_PATH = \"dataset\\light_background_D90\"\n",
    "\n",
    "def get_num_samples(set_path):\n",
    "    return len(glob.glob1(set_path, \"*.txt\"))\n",
    "\n",
    "\n",
    "def get_real_lux_samples(set_path):\n",
    "    samples = []\n",
    "    for i in range(get_num_samples(set_path)):\n",
    "        with open(\"{}\\{}.txt\".format(set_path, i), \"r\") as f:\n",
    "            file_str = f.read()\n",
    "            samples.append(float(file_str))\n",
    "    return samples\n",
    "\n",
    "def get_camera_frames(set_path):\n",
    "    samples = []\n",
    "    for i in range(get_num_samples(set_path)):\n",
    "        image = cv2.imread(\"{}\\{}.png\".format(set_path, i))\n",
    "        samples.append(image)\n",
    "    return samples\n",
    "\n",
    "def get_dataset(set_path):\n",
    "    return list(zip(get_camera_frames(set_path), get_real_lux_samples(set_path)))\n",
    "\n",
    "dark_dataset = get_dataset(DARK_SET_PATH)\n",
    "light_d25_dataset = get_dataset(LIGHT_D25_SET_PATH)\n",
    "light_d90_dataset = get_dataset(LIGHT_D90_SET_PATH)"
   ]
  },
  {
   "cell_type": "markdown",
   "metadata": {},
   "source": [
    "### 1.3 Map Operation\n",
    "\n",
    "Does a map operation over a dataset. Usually the map operator is a function which takes in an image and then return the approximated lux level."
   ]
  },
  {
   "cell_type": "code",
   "execution_count": null,
   "metadata": {},
   "outputs": [],
   "source": [
    "def map_data(dataset, map_op):\n",
    "    def inner_map_op(data):\n",
    "        img = data[0]\n",
    "        real_lux = data[1]\n",
    "        \n",
    "        return map_op(img), real_lux\n",
    "    \n",
    "    return list(map(inner_map_op, dataset))"
   ]
  },
  {
   "cell_type": "markdown",
   "metadata": {},
   "source": [
    "### 1.4 Plot Mapped Data\n",
    "\n",
    "Takes in the mapped data (usually from the map_data() function) which is a list of tuples that contain tuple[0] is the approximated lux and tuple[1] is the real ALS data. The function then creates a scatter plot of the two data sets."
   ]
  },
  {
   "cell_type": "code",
   "execution_count": null,
   "metadata": {},
   "outputs": [],
   "source": [
    "from pylab import plot, title, xlabel, ylabel, savefig, legend, array\n",
    "from itertools import chain\n",
    "\n",
    "def create_mapped_data_figure(title, mapped_data):\n",
    "    approx_lux_list, real_lux_list = list(zip(*mapped_data))\n",
    "    \n",
    "    fig = plt.figure()\n",
    "    ax1 = fig.add_subplot(111)\n",
    "\n",
    "    fig.suptitle(title)\n",
    "    ax1.scatter(list(range(len(approx_lux_list))), approx_lux_list, c='r', marker=\"s\", label='Approx Lux')\n",
    "    ax1.scatter(list(range(len(real_lux_list))), real_lux_list, c='g', marker=\"s\", label='Real Lux')\n",
    "    ax1.set_ylabel(\"Lux\")\n",
    "    ax1.set_xlabel(\"Sample\")\n",
    "\n",
    "    plt.legend(loc='upper right', bbox_to_anchor=(1.32, 1));"
   ]
  },
  {
   "cell_type": "markdown",
   "metadata": {},
   "source": [
    "### 1.5 Uber Mapping Function\n",
    "\n",
    "Uber function which:\n",
    "  1. Runs the lux estimation algorithm over each image in the loaded data set (where algo is f(img) -> lux).\n",
    "  2. Maps each data set into a figure.\n",
    "  3. Displays each mapping.\n",
    "  \n",
    "This is generally the function each algorithm should call to show its data."
   ]
  },
  {
   "cell_type": "code",
   "execution_count": null,
   "metadata": {},
   "outputs": [],
   "source": [
    "def apply_and_show_algo(algo):\n",
    "    light_d25_data_mapped = map_data(light_d25_dataset, get_avg_brightness)\n",
    "    light_d90_data_mapped = map_data(light_d90_dataset, get_avg_brightness)\n",
    "    dark_data_mapped = map_data(dark_dataset, get_avg_brightness)\n",
    "    \n",
    "    create_mapped_data_figure('Light Background D25 Light', light_d25_data_mapped)\n",
    "    create_mapped_data_figure('Light Background D90 Light', light_d90_data_mapped)\n",
    "    create_mapped_data_figure('Dark Background', dark_data_mapped)\n",
    "    plt.show()"
   ]
  },
  {
   "cell_type": "markdown",
   "metadata": {},
   "source": [
    "### 1.6 Get ALS Sample\n",
    "\n",
    "Query the real lux value from the ALS sensor. There must be an ALS on the system, otherwise this function will throw."
   ]
  },
  {
   "cell_type": "code",
   "execution_count": null,
   "metadata": {},
   "outputs": [],
   "source": [
    "import winrt.windows.devices.sensors as sensors\n",
    "\n",
    "def get_als_sample():\n",
    "    als = sensors.LightSensor.get_default()\n",
    "    if not als:\n",
    "        print(\"Can't read from ALS, none on system.\")\n",
    "        raise ConnectionError\n",
    "    return als.get_current_reading().illuminance_in_lux"
   ]
  },
  {
   "cell_type": "markdown",
   "metadata": {},
   "source": [
    "## 1.7 Live Comparison\n",
    "\n",
    "Grabs a camera capture and runs the given lux estimation algorithm on it. The function will then query the ALS. The approx lux and real lux are returned as a tuple for comparison."
   ]
  },
  {
   "cell_type": "code",
   "execution_count": null,
   "metadata": {},
   "outputs": [],
   "source": [
    "def live_compare(algo):\n",
    "    img = get_capture()\n",
    "    show_img(img)\n",
    "    approx_lux = algo(img)\n",
    "    real_lux = get_als_sample()\n",
    "    return approx_lux, real_lux"
   ]
  },
  {
   "cell_type": "markdown",
   "metadata": {},
   "source": [
    "## 2. (Option 1) Average Pixel Brightness\n",
    "\n",
    "Convert the RGB image in YUV color space, then take the mean value from the Y channel."
   ]
  },
  {
   "cell_type": "code",
   "execution_count": null,
   "metadata": {},
   "outputs": [],
   "source": [
    "import numpy as np\n",
    "\n",
    "def get_avg_brightness(img):\n",
    "    img_yuv = cv2.cvtColor(img, cv2.COLOR_BGR2YUV)\n",
    "    y, u, v = cv2.split(img_yuv)\n",
    "    return np.mean(y)"
   ]
  },
  {
   "cell_type": "markdown",
   "metadata": {},
   "source": [
    "### 2.1 Average Pixel Brightness Dataset Performance\n",
    "\n",
    "Run the average pixel brightness algorithm over the datasets."
   ]
  },
  {
   "cell_type": "code",
   "execution_count": null,
   "metadata": {},
   "outputs": [],
   "source": [
    "apply_and_show_algo(get_avg_brightness)"
   ]
  },
  {
   "cell_type": "markdown",
   "metadata": {},
   "source": [
    "### 2.2 Average Pixel Brightness Live Sample\n",
    "\n",
    "Run the average pixel brightness algorithm on a live camera sample."
   ]
  },
  {
   "cell_type": "code",
   "execution_count": null,
   "metadata": {},
   "outputs": [],
   "source": [
    "approx_lux, real_lux = live_compare(get_avg_brightness)\n",
    "\n",
    "print('Approx Lux: {}'.format(approx_lux))\n",
    "print('Real Lux: {}'.format(real_lux))"
   ]
  },
  {
   "cell_type": "markdown",
   "metadata": {},
   "source": [
    "Run the average pixel brightness algorithm over time on a live camera sample"
   ]
  },
  {
   "cell_type": "code",
   "execution_count": null,
   "metadata": {},
   "outputs": [],
   "source": [
    "def collect_live_compare_over_time():\n",
    "    MAX_ITER = 5\n",
    "    data_list = []\n",
    "    for i in range(MAX_ITER):\n",
    "        print(\"Querying iteration {}\".format(i))\n",
    "        data_list.append(live_compare(get_avg_brightness))\n",
    "    create_mapped_data_figure(\"Live Samples\", data_list)\n",
    "    plt.show()\n",
    "    \n",
    "collect_live_compare_over_time()"
   ]
  },
  {
   "cell_type": "markdown",
   "metadata": {},
   "source": [
    "## 3. (Option 2) Use ML to Classify User Enviroment\n",
    "\n",
    "Use ML to classify what brightness enviroment the camera image is in."
   ]
  },
  {
   "cell_type": "markdown",
   "metadata": {},
   "source": [
    "## 4. (Option 3) Linear Regression\n",
    "\n",
    "Gather a lot of camera data and the associate lux readings from a real ALS. Then run regression on the data set to find a more accurate lux approximation. This can be used with Option 1 to \"calibrate\" the readings."
   ]
  }
 ],
 "metadata": {
  "kernelspec": {
   "display_name": "Python 3",
   "language": "python",
   "name": "python3"
  },
  "language_info": {
   "codemirror_mode": {
    "name": "ipython",
    "version": 3
   },
   "file_extension": ".py",
   "mimetype": "text/x-python",
   "name": "python",
   "nbconvert_exporter": "python",
   "pygments_lexer": "ipython3",
   "version": "3.7.8"
  }
 },
 "nbformat": 4,
 "nbformat_minor": 4
}
