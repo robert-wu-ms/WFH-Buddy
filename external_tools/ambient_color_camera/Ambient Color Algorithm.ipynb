{
 "cells": [
  {
   "cell_type": "markdown",
   "metadata": {},
   "source": [
    "# 1. Summary\n",
    "\n",
    "This notebook documents the methods for computing the ambient color from a camera frame."
   ]
  },
  {
   "cell_type": "markdown",
   "metadata": {},
   "source": [
    "# 2. Get Image to Process\n",
    "\n",
    "Use either a frame from the camera or the example image to run through the color algorithm examples in Section 3."
   ]
  },
  {
   "cell_type": "markdown",
   "metadata": {},
   "source": [
    "## 2.1 (Options 1) Use Camera Frame"
   ]
  },
  {
   "cell_type": "code",
   "execution_count": null,
   "metadata": {},
   "outputs": [],
   "source": [
    "import cv2\n",
    "\n",
    "def show_img(img):\n",
    "    img = cv2.cvtColor(img, cv2.COLOR_BGR2RGB)\n",
    "    plt.imshow(img)\n",
    "\n",
    "cap = cv2.VideoCapture(0)\n",
    "ret, img = cap.read()\n",
    "\n",
    "show_img(img)"
   ]
  },
  {
   "cell_type": "markdown",
   "metadata": {},
   "source": [
    "## 2.2 (Option 2) Use Example Image"
   ]
  },
  {
   "cell_type": "code",
   "execution_count": null,
   "metadata": {},
   "outputs": [],
   "source": [
    "img = cv2.imread('obama.jpg')\n",
    "\n",
    "show_img(img)"
   ]
  },
  {
   "cell_type": "markdown",
   "metadata": {},
   "source": [
    "# 3. Ambient Color Algorithms\n",
    "\n",
    "This section will define the various methods that can be used to determine the ambient color from an image."
   ]
  },
  {
   "cell_type": "markdown",
   "metadata": {},
   "source": [
    "## 3.1 Average Pixel Color\n",
    "\n",
    "This method of finding the ambient color simply involves averaging the RGB values of the frame and then converting it to a CCT value.\n",
    "\n",
    "### 3.1.1 (Step 1) Average Pixel Value\n",
    "\n",
    "Find the average pixel value by taking the mean of all the colors in the image."
   ]
  },
  {
   "cell_type": "code",
   "execution_count": null,
   "metadata": {
    "scrolled": true
   },
   "outputs": [],
   "source": [
    "import numpy as np\n",
    "\n",
    "def avg_image_colors(img):\n",
    "    average = img.mean(axis=0).mean(axis=0)\n",
    "    avg_img = np.ones(shape=img.shape, dtype=np.uint8)*np.uint8(average)\n",
    "    return avg_img[4, 4]\n",
    "\n",
    "def bgr_to_rgb(color_bgr):\n",
    "    return (color_bgr[2], color_bgr[1], color_bgr[0])\n",
    "\n",
    "\n",
    "def show_color(color_bgr):\n",
    "    color_rgb = bgr_to_rgb(color_bgr)\n",
    "    plt.imshow([[color_rgb]])\n",
    "    \n",
    "show_color(avg_image_colors(img))"
   ]
  },
  {
   "cell_type": "markdown",
   "metadata": {},
   "source": [
    "### 3.1.2 (Step 2) Convert Average Pixel Value to CCT Value\n",
    "\n",
    "Convert the mean color into a CCT value to prevent extreme adaptation targets."
   ]
  },
  {
   "cell_type": "code",
   "execution_count": null,
   "metadata": {},
   "outputs": [],
   "source": [
    "import colour\n",
    "from colour.plotting import plot_planckian_locus_in_chromaticity_diagram_CIE1960UCS\n",
    "\n",
    "def bgr_to_cct(color_bgr):\n",
    "    print(\"Mean RGB Value: {}\".format(color_bgr))\n",
    "\n",
    "    avg_img_color_xyz = colour.sRGB_to_XYZ(color_bgr / 255)\n",
    "    avg_img_color_xy = colour.XYZ_to_xy(avg_img_color_xyz)\n",
    "    avg_img_color_cct = colour.xy_to_CCT(avg_img_color_xy, 'hernandez1999')\n",
    "\n",
    "    print('Mean CCT Value: {}'.format(avg_img_color_cct))\n",
    "\n",
    "    avg_img__color_cct_xy = colour.temperature.CCT_to_xy(avg_img_color_cct)\n",
    "    avg_img_color_cct_xyz = colour.xy_to_XYZ(avg_img__color_cct_xy)\n",
    "    return colour.XYZ_to_sRGB(avg_img_color_cct_xyz)\n",
    "        \n",
    "plt.imshow([[bgr_to_cct(avg_image_colors(img))]])"
   ]
  },
  {
   "cell_type": "markdown",
   "metadata": {},
   "source": [
    "## 3.1.3 Analysis\n",
    "\n",
    "Finding the ambient color through average all the pixels values is clearly not the right solution.\n",
    "The heuristic will almost always generate a color that is not representative or even present in the\n",
    "image - it takes into account irrelevant objects like the user's face or background objects.\n",
    "\n",
    "The step to convert the average color to CCT helps clamps the color to an acceptable range, but again\n",
    "the target color is wrong so the CCT value will also be wrong."
   ]
  },
  {
   "cell_type": "markdown",
   "metadata": {},
   "source": [
    "## 3.2 K-Means Color Clusters\n",
    "\n",
    "This method attempts to improve on the previous one by being more intelligent on the colors it chooses to use for averaging.\n",
    "The assumption of this heuristic is the background takes up the majority of the camera frame. This means if the pixel values are\n",
    "clustered into similar colors then the largest cluster will represent the background color."
   ]
  },
  {
   "cell_type": "markdown",
   "metadata": {},
   "source": [
    "### 3.2.1 (Step 1) Apply K-Means Cluster\n",
    "\n",
    "Note: This algorithm can possibly be improved by averaging all the colors in the most populous cluster to get a\n",
    "better representation, but that is skipped since this is still clearly the wrong solution."
   ]
  },
  {
   "cell_type": "code",
   "execution_count": null,
   "metadata": {},
   "outputs": [],
   "source": [
    "def apply_kmeans_img(img, k, debug=False):\n",
    "\n",
    "    pixels = np.float32(img.reshape(-1, 3))\n",
    "\n",
    "    criteria = (cv2.TERM_CRITERIA_EPS + cv2.TERM_CRITERIA_MAX_ITER, 50, .1)\n",
    "    flags = cv2.KMEANS_RANDOM_CENTERS\n",
    "\n",
    "    _, labels, centroids = cv2.kmeans(pixels, k, None, criteria, 10, flags)\n",
    "    centroid = centroids[0] / 255\n",
    "\n",
    "    if debug:\n",
    "        print(centroid)\n",
    "    return centroid\n",
    "\n",
    "bgr_value_k_1 = apply_kmeans_img(img, 1, True)\n",
    "bgr_value_k_5 = apply_kmeans_img(img, 5, True)\n",
    "bgr_value_k_10 = apply_kmeans_img(img, 10, True)\n",
    "\n",
    "f, axarr = plt.subplots(1, 3)\n",
    "axarr[0].imshow([[bgr_to_rgb(bgr_value_k_1)]])\n",
    "axarr[1].imshow([[bgr_to_rgb(bgr_value_k_5)]])\n",
    "axarr[2].imshow([[bgr_to_rgb(bgr_value_k_10)]])"
   ]
  },
  {
   "cell_type": "markdown",
   "metadata": {},
   "source": [
    "### Step 3.2.2 (Step 2) Convert K-Means Color To CCT"
   ]
  },
  {
   "cell_type": "code",
   "execution_count": null,
   "metadata": {},
   "outputs": [],
   "source": [
    "f, axarr = plt.subplots(1, 3)\n",
    "axarr[0].imshow([[bgr_to_cct(bgr_value_k_1 * 255)]])\n",
    "axarr[1].imshow([[bgr_to_cct(bgr_value_k_5 * 255)]])\n",
    "axarr[2].imshow([[bgr_to_cct(bgr_value_k_10 * 255)]])"
   ]
  },
  {
   "cell_type": "markdown",
   "metadata": {},
   "source": [
    "### 3.2.3 Analysis\n",
    "\n",
    "Using K-Means to find the ambient color of the image is also an incorrect heuristic as the dominant color may not always be the background.\n",
    "\n",
    "It is clear the ambient color cannot be produced from a camera frame by using any sort of color averaging."
   ]
  },
  {
   "cell_type": "markdown",
   "metadata": {},
   "source": [
    "# 3.3 Use ML to Find Ambient Color\n",
    "\n",
    "This is inspired by augmented reality SDKs which are able to calculate the ambient color of a scene.\n",
    "\n",
    "For example ARCore is able to calculate the lighting of a scene and compensate virtual objects:\n",
    "\n",
    "![ar_example](ar_example.png)\n",
    "\n",
    "The SDK exposes a [getColorCorrection()](https://developers.google.com/ar/reference/java/arcore/reference/com/google/ar/core/LightEstimate#getColorCorrection(float[],%20int)) call which can be used to find the ambient color.\n",
    "\n",
    "This is currently not a possible option since there are no augmented reality SDKs for Windows desktop."
   ]
  }
 ],
 "metadata": {
  "kernelspec": {
   "display_name": "Python 3",
   "language": "python",
   "name": "python3"
  },
  "language_info": {
   "codemirror_mode": {
    "name": "ipython",
    "version": 3
   },
   "file_extension": ".py",
   "mimetype": "text/x-python",
   "name": "python",
   "nbconvert_exporter": "python",
   "pygments_lexer": "ipython3",
   "version": "3.7.4"
  }
 },
 "nbformat": 4,
 "nbformat_minor": 4
}
